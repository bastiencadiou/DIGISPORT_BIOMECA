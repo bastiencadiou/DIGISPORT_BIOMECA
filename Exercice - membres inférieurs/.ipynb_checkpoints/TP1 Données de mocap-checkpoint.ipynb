{
 "cells": [
  {
   "cell_type": "markdown",
   "metadata": {},
   "source": [
    "# TP cinématique et dynamique en analyse du mouvement 1\n",
    "**Charles Pontonnier - Nicolas Bideau**\n",
    "\n",
    "\n",
    "## Exploration des données d'entrée\n",
    "\n",
    "\n",
    "\n",
    "Ce petit code python a pour objectif d'investiguer la nature des données d'entrée en analyse du mouvement, en particulier les trajectoires de marqueurs en capture du mouvement et les plateformes de force.\n",
    "\n",
    "Par la suite nous allons exploiter la librairie ezc3d. Pour installer rapidement la librairie, il vous suffit d'écrire dans un shell anaconda\n",
    "\n",
    "conda install -c conda-forge ezc3d \n",
    "\n",
    "## Markerset utilisé\n",
    "![alt text](markerset.png \"jeu de marqueurs utilisé\")"
   ]
  },
  {
   "cell_type": "markdown",
   "metadata": {},
   "source": [
    "## Setup du Notebook"
   ]
  },
  {
   "cell_type": "code",
   "execution_count": 1,
   "metadata": {},
   "outputs": [],
   "source": [
    "import ezc3d \n",
    "import numpy as np\n",
    "import matplotlib.pyplot as plt\n",
    "from scipy import signal"
   ]
  },
  {
   "cell_type": "markdown",
   "metadata": {},
   "source": [
    "## Ouverture du fichier et récupération des données "
   ]
  },
  {
   "cell_type": "code",
   "execution_count": 13,
   "metadata": {
    "scrolled": true
   },
   "outputs": [
    {
     "name": "stdout",
     "output_type": "stream",
     "text": [
      "Nombre de marqueurs présents: 23\n",
      "fréquence échantillonnage capture de mouvement: 300.0 Hz\n",
      "fréquence échantillonnage données analogiques: 1500.0 Hz\n",
      "Noms des marqueurs {'type': -1, 'description': 'Trajectory labels', 'is_locked': False, 'value': ['LKNE', 'OXSENS', 'LTOE', 'LTAR', 'LTARI', 'LHEE', 'LANI', 'LANE', 'LKNI', 'LINF', 'LFWT', 'LBWT', 'RTOE', 'RTAR', 'RTARI', 'RHEE', 'RANI', 'RANE', 'RKNI', 'RKNE', 'RINF', 'RFWT', 'RBWT']}\n",
      "Nombre de marqueurs 23\n",
      "Nombre de dimensions 4\n",
      "Nombre de frames 1863\n"
     ]
    }
   ],
   "source": [
    "#Ouverture du fichier\n",
    "c = ezc3d.c3d('DATA/marche.c3d')\n",
    "print('Nombre de marqueurs présents:',c['parameters']['POINT']['USED']['value'][0]); # nombre de marqueurs \n",
    "\n",
    "## Affichage du contenu des différents dictionnaires\n",
    "#print(c['header'].keys())\n",
    "#print(c['data'].keys())\n",
    "#print(c['parameters']['FORCE_PLATFORM'].keys())\n",
    "\n",
    "point_data = c['data']['points'] #récupération trajectoires marqueurs\n",
    "point_labels=c['parameters']['POINT']['LABELS']# récupération labels marqueurs\n",
    "point_rate=c['parameters']['POINT']['RATE'] # récupération fréquence mocap\n",
    "analog_data = c['data']['analogs'] # récupération données analogiques\n",
    "analog_labels=c['parameters']['ANALOG']['LABELS'] # récupération labels analogiques\n",
    "analog_rate=c['parameters']['ANALOG']['RATE'] # récupération fréquence analogique\n",
    "\n",
    "print('fréquence échantillonnage capture de mouvement:', point_rate['value'][0],'Hz')\n",
    "print('fréquence échantillonnage données analogiques:', analog_rate['value'][0],'Hz')\n",
    "# nombre d'échantillons mocap et analog\n",
    "nf_mocap=len(point_data[0][0][:])\n",
    "n_markers=len(point_data[0][:])\n",
    "n_dims=len(point_data[:])\n",
    "nf_analog=len(analog_data[0][:][:])\n",
    "#reconstruction vecteur temps capture et signaux analogiques\n",
    "t_point=np.linspace(0., nf_mocap/point_rate['value'][0], num=nf_mocap)\n",
    "t_analog=np.linspace(0., nf_analog/analog_rate['value'][0], num=nf_analog)\n",
    "\n",
    "print('Noms des marqueurs',point_labels)\n",
    "print('Nombre de marqueurs',n_markers)\n",
    "print('Nombre de dimensions',n_dims)\n",
    "print('Nombre de frames',nf_mocap)"
   ]
  },
  {
   "cell_type": "markdown",
   "metadata": {},
   "source": [
    "## Tracé de la position des marqueurs au cours de la marche\n",
    "\n",
    "<font color='green'>**Exemple: Tracé de la position XYZ du marqueur RKNE**</font>"
   ]
  },
  {
   "cell_type": "code",
   "execution_count": 22,
   "metadata": {},
   "outputs": [
    {
     "data": {
      "image/png": "[encoded data removed]",
      "text/plain": [
       "<Figure size 432x288 with 3 Axes>"
      ]
     },
     "metadata": {
      "needs_background": "light"
     },
     "output_type": "display_data"
    }
   ],
   "source": [
    "plt.subplot(3,1,1)\n",
    "plt.grid()\n",
    "plt.plot(t_point,point_data[0][19][:])\n",
    "plt.xlabel('t (s)')\n",
    "plt.ylabel('X (mm)')\n",
    "plt.legend(point_labels['value'][19:])\n",
    "\n",
    "plt.subplot(3,1,2)\n",
    "plt.grid()\n",
    "plt.plot(t_point,point_data[1][19][:])\n",
    "plt.xlabel('t (s)')\n",
    "plt.ylabel('Y (mm)')\n",
    "\n",
    "plt.subplot(3,1,3)\n",
    "plt.grid()\n",
    "plt.plot(t_point,point_data[2][19][:])\n",
    "plt.xlabel('t (s)')\n",
    "plt.ylabel('Z (mm)')\n",
    "\n",
    "plt.show()"
   ]
  },
  {
   "cell_type": "markdown",
   "metadata": {},
   "source": [
    "<font color='green'>**Question 1: Tracer l'évolution du marqueur LKNI.**</font>"
   ]
  },
  {
   "cell_type": "code",
   "execution_count": 23,
   "metadata": {},
   "outputs": [],
   "source": [
    "# S'inspirer des lignes ci-dessus pour le faire\n",
    "\n"
   ]
  },
  {
   "cell_type": "markdown",
   "metadata": {},
   "source": [
    "## Construction des centres articulaires "
   ]
  },
  {
   "cell_type": "markdown",
   "metadata": {},
   "source": [
    "On cherche à présent à obtenir les centres articulaires des différentes articulations du modèle. Pour rappel, nous avons défini les différents centres articulaires de la manière suivante:\n",
    "![alt text](centres_matrices_1.png \"centres articulaires du modèle\")\n",
    "\n",
    "<font color='green'>**Question 2: Utiliser le markerset pour reconstruire les différents centres articulaires du modèle et tracer l'allure des courbes.**</font>"
   ]
  },
  {
   "cell_type": "code",
   "execution_count": 6,
   "metadata": {},
   "outputs": [],
   "source": [
    "# le centre segmentaire (et articulaire) du pelvis est approximé par la moyenne des quatres marqueurs pelvis\n",
    "\n",
    "# le centre articulaire de la hanche est approximé par la moyenne des 2 marqueurs du genou\n",
    "\n",
    "# le centre articulaire de la cheville est approximé par la moyenne des 2 marqueurs de la cheville\n",
    "\n",
    "# le point situé sur le gros orteil est approximé par le marqueur gros orteil"
   ]
  }
 ],
 "metadata": {
  "kernelspec": {
   "display_name": "Python 3",
   "language": "python",
   "name": "python3"
  },
  "language_info": {
   "codemirror_mode": {
    "name": "ipython",
    "version": 3
   },
   "file_extension": ".py",
   "mimetype": "text/x-python",
   "name": "python",
   "nbconvert_exporter": "python",
   "pygments_lexer": "ipython3",
   "version": "3.7.3"
  }
 },
 "nbformat": 4,
 "nbformat_minor": 2
}
